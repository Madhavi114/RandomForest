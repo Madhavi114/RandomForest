{
 "cells": [
  {
   "cell_type": "code",
   "execution_count": 1,
   "id": "4ffdb7f6",
   "metadata": {},
   "outputs": [],
   "source": [
    "import os\n",
    "import pandas as pd\n",
    "from sklearn import ensemble\n",
    "from sklearn import model_selection"
   ]
  },
  {
   "cell_type": "code",
   "execution_count": 9,
   "id": "45400b9b",
   "metadata": {},
   "outputs": [
    {
     "data": {
      "text/plain": [
       "'C:\\\\Users\\\\madha'"
      ]
     },
     "execution_count": 9,
     "metadata": {},
     "output_type": "execute_result"
    }
   ],
   "source": [
    "os.getcwd()"
   ]
  },
  {
   "cell_type": "code",
   "execution_count": 10,
   "id": "9d03ad51",
   "metadata": {},
   "outputs": [],
   "source": [
    "os.chdir(\"C:\\\\Users\\\\madha\")"
   ]
  },
  {
   "cell_type": "code",
   "execution_count": 11,
   "id": "360a80ba",
   "metadata": {},
   "outputs": [],
   "source": [
    "titanic_train = pd.read_csv(\"train.csv\")"
   ]
  },
  {
   "cell_type": "code",
   "execution_count": 12,
   "id": "0f7bb2db",
   "metadata": {},
   "outputs": [
    {
     "name": "stdout",
     "output_type": "stream",
     "text": [
      "<class 'pandas.core.frame.DataFrame'>\n",
      "RangeIndex: 891 entries, 0 to 890\n",
      "Data columns (total 12 columns):\n",
      " #   Column       Non-Null Count  Dtype  \n",
      "---  ------       --------------  -----  \n",
      " 0   PassengerId  891 non-null    int64  \n",
      " 1   Survived     891 non-null    int64  \n",
      " 2   Pclass       891 non-null    int64  \n",
      " 3   Name         891 non-null    object \n",
      " 4   Sex          891 non-null    object \n",
      " 5   Age          714 non-null    float64\n",
      " 6   SibSp        891 non-null    int64  \n",
      " 7   Parch        891 non-null    int64  \n",
      " 8   Ticket       891 non-null    object \n",
      " 9   Fare         891 non-null    float64\n",
      " 10  Cabin        204 non-null    object \n",
      " 11  Embarked     889 non-null    object \n",
      "dtypes: float64(2), int64(5), object(5)\n",
      "memory usage: 83.7+ KB\n"
     ]
    }
   ],
   "source": [
    "titanic_train.shape\n",
    "titanic_train.info()"
   ]
  },
  {
   "cell_type": "code",
   "execution_count": 13,
   "id": "5af42d54",
   "metadata": {},
   "outputs": [
    {
     "name": "stdout",
     "output_type": "stream",
     "text": [
      "<class 'pandas.core.frame.DataFrame'>\n",
      "RangeIndex: 891 entries, 0 to 890\n",
      "Data columns (total 17 columns):\n",
      " #   Column       Non-Null Count  Dtype  \n",
      "---  ------       --------------  -----  \n",
      " 0   PassengerId  891 non-null    int64  \n",
      " 1   Survived     891 non-null    int64  \n",
      " 2   Name         891 non-null    object \n",
      " 3   Age          714 non-null    float64\n",
      " 4   SibSp        891 non-null    int64  \n",
      " 5   Parch        891 non-null    int64  \n",
      " 6   Ticket       891 non-null    object \n",
      " 7   Fare         891 non-null    float64\n",
      " 8   Cabin        204 non-null    object \n",
      " 9   Pclass_1     891 non-null    uint8  \n",
      " 10  Pclass_2     891 non-null    uint8  \n",
      " 11  Pclass_3     891 non-null    uint8  \n",
      " 12  Sex_female   891 non-null    uint8  \n",
      " 13  Sex_male     891 non-null    uint8  \n",
      " 14  Embarked_C   891 non-null    uint8  \n",
      " 15  Embarked_Q   891 non-null    uint8  \n",
      " 16  Embarked_S   891 non-null    uint8  \n",
      "dtypes: float64(2), int64(4), object(3), uint8(8)\n",
      "memory usage: 69.7+ KB\n"
     ]
    }
   ],
   "source": [
    "titanic_train1 = pd.get_dummies(titanic_train, columns=['Pclass', 'Sex', 'Embarked'])\n",
    "titanic_train1.shape\n",
    "titanic_train1.info()"
   ]
  },
  {
   "cell_type": "code",
   "execution_count": 14,
   "id": "2031ec9f",
   "metadata": {},
   "outputs": [
    {
     "name": "stderr",
     "output_type": "stream",
     "text": [
      "C:\\Users\\madha\\AppData\\Local\\Temp\\ipykernel_18060\\1061270925.py:1: FutureWarning: In a future version of pandas all arguments of DataFrame.drop except for the argument 'labels' will be keyword-only.\n",
      "  X_train = titanic_train1.drop(['PassengerId','Age','Cabin','Ticket', 'Name','Survived'], 1)\n"
     ]
    }
   ],
   "source": [
    "X_train = titanic_train1.drop(['PassengerId','Age','Cabin','Ticket', 'Name','Survived'], 1)\n",
    "y_train = titanic_train['Survived']"
   ]
  },
  {
   "cell_type": "code",
   "execution_count": 15,
   "id": "e5b60c2d",
   "metadata": {},
   "outputs": [],
   "source": [
    "rf_estimator = ensemble.RandomForestClassifier(random_state=2017)"
   ]
  },
  {
   "cell_type": "code",
   "execution_count": 16,
   "id": "4d05cda9",
   "metadata": {},
   "outputs": [
    {
     "data": {
      "text/plain": [
       "GridSearchCV(cv=10, estimator=RandomForestClassifier(random_state=2017),\n",
       "             n_jobs=10,\n",
       "             param_grid={'criterion': ['entropy', 'gini'],\n",
       "                         'max_features': [3, 6, 9],\n",
       "                         'n_estimators': [200, 250]})"
      ]
     },
     "execution_count": 16,
     "metadata": {},
     "output_type": "execute_result"
    }
   ],
   "source": [
    "rf_grid = {'n_estimators':list(range(200,251,50)),'max_features':[3,6,9],'criterion':['entropy','gini']}\n",
    "rf_grid_estimator = model_selection.GridSearchCV(rf_estimator,rf_grid, cv=10, n_jobs=10)\n",
    "rf_grid_estimator.fit(X_train, y_train)"
   ]
  },
  {
   "cell_type": "code",
   "execution_count": 17,
   "id": "f66eb066",
   "metadata": {},
   "outputs": [
    {
     "data": {
      "text/plain": [
       "0.8103495630461923"
      ]
     },
     "execution_count": 17,
     "metadata": {},
     "output_type": "execute_result"
    }
   ],
   "source": [
    "rf_grid_estimator.best_estimator_\n",
    "rf_grid_estimator.best_score_"
   ]
  },
  {
   "cell_type": "code",
   "execution_count": 18,
   "id": "e39a2522",
   "metadata": {},
   "outputs": [
    {
     "data": {
      "text/plain": [
       "0.9248035914702581"
      ]
     },
     "execution_count": 18,
     "metadata": {},
     "output_type": "execute_result"
    }
   ],
   "source": [
    "rf_grid_estimator.score(X_train, y_train)\n"
   ]
  },
  {
   "cell_type": "code",
   "execution_count": 20,
   "id": "02f37113",
   "metadata": {},
   "outputs": [
    {
     "name": "stderr",
     "output_type": "stream",
     "text": [
      "C:\\Users\\madha\\AppData\\Local\\Temp\\ipykernel_18060\\2694118000.py:3: SettingWithCopyWarning: \n",
      "A value is trying to be set on a copy of a slice from a DataFrame\n",
      "\n",
      "See the caveats in the documentation: https://pandas.pydata.org/pandas-docs/stable/user_guide/indexing.html#returning-a-view-versus-a-copy\n",
      "  titanic_test.Fare[titanic_test['Fare'].isnull()] = titanic_test['Fare'].mean()\n"
     ]
    }
   ],
   "source": [
    "titanic_test = pd.read_csv(\"test.csv\")\n",
    "titanic_test.shape\n",
    "titanic_test.Fare[titanic_test['Fare'].isnull()] = titanic_test['Fare'].mean()"
   ]
  },
  {
   "cell_type": "code",
   "execution_count": 21,
   "id": "6b45fec6",
   "metadata": {},
   "outputs": [
    {
     "name": "stdout",
     "output_type": "stream",
     "text": [
      "<class 'pandas.core.frame.DataFrame'>\n",
      "RangeIndex: 418 entries, 0 to 417\n",
      "Data columns (total 16 columns):\n",
      " #   Column       Non-Null Count  Dtype  \n",
      "---  ------       --------------  -----  \n",
      " 0   PassengerId  418 non-null    int64  \n",
      " 1   Name         418 non-null    object \n",
      " 2   Age          332 non-null    float64\n",
      " 3   SibSp        418 non-null    int64  \n",
      " 4   Parch        418 non-null    int64  \n",
      " 5   Ticket       418 non-null    object \n",
      " 6   Fare         418 non-null    float64\n",
      " 7   Cabin        91 non-null     object \n",
      " 8   Pclass_1     418 non-null    uint8  \n",
      " 9   Pclass_2     418 non-null    uint8  \n",
      " 10  Pclass_3     418 non-null    uint8  \n",
      " 11  Sex_female   418 non-null    uint8  \n",
      " 12  Sex_male     418 non-null    uint8  \n",
      " 13  Embarked_C   418 non-null    uint8  \n",
      " 14  Embarked_Q   418 non-null    uint8  \n",
      " 15  Embarked_S   418 non-null    uint8  \n",
      "dtypes: float64(2), int64(3), object(3), uint8(8)\n",
      "memory usage: 29.5+ KB\n"
     ]
    }
   ],
   "source": [
    "titanic_test1 = pd.get_dummies(titanic_test, columns=['Pclass', 'Sex', 'Embarked'])\n",
    "titanic_test1.shape\n",
    "titanic_test1.info()\n"
   ]
  },
  {
   "cell_type": "code",
   "execution_count": 22,
   "id": "2060de65",
   "metadata": {},
   "outputs": [
    {
     "name": "stderr",
     "output_type": "stream",
     "text": [
      "C:\\Users\\madha\\AppData\\Local\\Temp\\ipykernel_18060\\2587287176.py:1: FutureWarning: In a future version of pandas all arguments of DataFrame.drop except for the argument 'labels' will be keyword-only.\n",
      "  X_test = titanic_test1.drop(['PassengerId','Age','Cabin','Ticket', 'Name'], 1)\n"
     ]
    }
   ],
   "source": [
    "X_test = titanic_test1.drop(['PassengerId','Age','Cabin','Ticket', 'Name'], 1)\n",
    "titanic_test['Survived'] = rf_grid_estimator.predict(X_test)\n",
    "titanic_test.to_csv(\"submission_rf.csv\", columns=['PassengerId','Survived'], index=False)"
   ]
  },
  {
   "cell_type": "code",
   "execution_count": null,
   "id": "0bc3d54d",
   "metadata": {},
   "outputs": [],
   "source": []
  }
 ],
 "metadata": {
  "kernelspec": {
   "display_name": "Python 3 (ipykernel)",
   "language": "python",
   "name": "python3"
  },
  "language_info": {
   "codemirror_mode": {
    "name": "ipython",
    "version": 3
   },
   "file_extension": ".py",
   "mimetype": "text/x-python",
   "name": "python",
   "nbconvert_exporter": "python",
   "pygments_lexer": "ipython3",
   "version": "3.9.13"
  }
 },
 "nbformat": 4,
 "nbformat_minor": 5
}
